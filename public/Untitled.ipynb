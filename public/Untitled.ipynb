{
 "cells": [
  {
   "cell_type": "code",
   "execution_count": 1,
   "id": "adf9a92f",
   "metadata": {},
   "outputs": [
    {
     "data": {
      "text/plain": [
       "{ b: { y: 5, z: 'hi there' } }"
      ]
     },
     "execution_count": 1,
     "metadata": {},
     "output_type": "execute_result"
    }
   ],
   "source": [
    "const json1 = require('ot-json1')\n",
    "\n",
    "const op1 = json1.moveOp(['a', 'x'], ['a', 'y'])\n",
    "\n",
    "// The easiest way to make compound operations is to just compose smaller operations\n",
    "const op2 = [\n",
    "  json1.moveOp(['a'], ['b']),\n",
    "  json1.insertOp(['b', 'z'], 'hi there')\n",
    "].reduce(json1.type.compose, null)\n",
    "\n",
    "// op2 = [['a', {p:0}], ['b', {d:0}, 'x', {i: 'hi there'}]]\n",
    "\n",
    "const op1_ = json1.type.transform(op1, op2, 'left')\n",
    "// op1_ now moves b.x -> b.y instead, because op2 moved 'a' to 'b'.\n",
    "const op2_ = json1.type.transform(op2, op1, 'right')\n",
    "\n",
    "let doc = {a: {x: 5}}\n",
    "\n",
    "doc = json1.type.apply(doc, op2) // doc = {b: {x: 5, z: 'hi there'}}\n",
    "doc = json1.type.apply(doc, op1_) // doc = {b: {y: 5, z: 'hi there'}}\n",
    "\n",
    "\n",
    "// Using the CP1 diamond property, this is the same as:\n",
    "\n",
    "doc = {a: {x: 5}}\n",
    "doc = json1.type.apply(doc, op1) // doc = {a: {y: 5}}\n",
    "\n",
    "doc = json1.type.apply(doc, op2) // doc = {b: {y: 5, z: 'hi there'}}"
   ]
  },
  {
   "cell_type": "code",
   "execution_count": 4,
   "id": "a81ad575",
   "metadata": {},
   "outputs": [
    {
     "data": {
      "text/plain": [
       "{ a: { x: 5 } }"
      ]
     },
     "execution_count": 4,
     "metadata": {},
     "output_type": "execute_result"
    }
   ],
   "source": [
    "doc = {a: {x: 5}}"
   ]
  },
  {
   "cell_type": "code",
   "execution_count": 5,
   "id": "2666a2c5",
   "metadata": {},
   "outputs": [
    {
     "data": {
      "text/plain": [
       "{ b: { x: 5, z: 'hi there' } }"
      ]
     },
     "execution_count": 5,
     "metadata": {},
     "output_type": "execute_result"
    }
   ],
   "source": [
    "json1.type.apply(doc, op2)"
   ]
  },
  {
   "cell_type": "code",
   "execution_count": null,
   "id": "aed3f835",
   "metadata": {},
   "outputs": [],
   "source": []
  }
 ],
 "metadata": {
  "kernelspec": {
   "display_name": "Javascript (Node.js)",
   "language": "javascript",
   "name": "javascript"
  },
  "language_info": {
   "file_extension": ".js",
   "mimetype": "application/javascript",
   "name": "javascript",
   "version": "15.14.0"
  }
 },
 "nbformat": 4,
 "nbformat_minor": 5
}
